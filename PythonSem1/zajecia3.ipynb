{
 "cells": [
  {
   "cell_type": "code",
   "execution_count": null,
   "id": "d46f082e",
   "metadata": {},
   "outputs": [],
   "source": [
    "import pandas as pd\n",
    "import matplotlib.pyplot as plt"
   ]
  },
  {
   "cell_type": "code",
   "execution_count": null,
   "id": "8843f139",
   "metadata": {},
   "outputs": [],
   "source": [
    "# ---------- ZESTAW 1 ----------\n",
    "# 1. Wczytanie danych nauczycieli\n",
    "nauczyciele = pd.read_csv(\"nauczyciele.csv\")"
   ]
  },
  {
   "cell_type": "code",
   "execution_count": null,
   "id": "f00b02a7",
   "metadata": {},
   "outputs": [],
   "source": [
    "# 2. Wstępne czyszczenie\n",
    "nauczyciele.dropna(how=\"all\", inplace=True)  # usuń puste wiersze\n",
    "nauczyciele.columns = nauczyciele.columns.str.strip()  # usuń spacje z nazw kolumn"
   ]
  },
  {
   "cell_type": "code",
   "execution_count": null,
   "id": "03d0e8ee",
   "metadata": {},
   "outputs": [],
   "source": [
    "# Przykładowe wyświetlenie kolumn:\n",
    "print(\"Kolumny w danych nauczyciele:\", nauczyciele.columns.tolist())"
   ]
  },
  {
   "cell_type": "markdown",
   "id": "fa375f5c",
   "metadata": {},
   "source": [
    "3. Wykresy"
   ]
  },
  {
   "cell_type": "code",
   "execution_count": null,
   "id": "f912b1d5",
   "metadata": {},
   "outputs": [],
   "source": [
    "# a) nauczyciele w latach 2014–2018 wg województw\n",
    "etat_lata = nauczyciele[\n",
    "    (nauczyciele[\"Rok\"].between(2014, 2018)) & (nauczyciele[\"Stanowisko\"] == \"Ogółem\")\n",
    "]\n",
    "etat_lata_grouped = etat_lata.groupby([\"Województwo\", \"Rok\"])[\"Liczba\"].sum().unstack()\n",
    "etat_lata_grouped.plot(kind=\"bar\", figsize=(10, 6))\n",
    "plt.title(\"Nauczyciele wg województw (2014-2018)\")\n",
    "plt.ylabel(\"Liczba zatrudnionych\")\n",
    "plt.tight_layout()\n",
    "plt.show()"
   ]
  },
  {
   "cell_type": "code",
   "execution_count": null,
   "id": "9b5e5cdc",
   "metadata": {},
   "outputs": [],
   "source": [
    "# b) stanowiska w woj. śląskim (2014–2018)\n",
    "slaskie = nauczyciele[\n",
    "    (nauczyciele[\"Rok\"].between(2014, 2018)) & (nauczyciele[\"Województwo\"] == \"śląskie\")\n",
    "]\n",
    "slaskie_grouped = slaskie.groupby([\"Stanowisko\", \"Rok\"])[\"Liczba\"].sum().unstack()\n",
    "slaskie_grouped.plot(kind=\"bar\", figsize=(10, 6))\n",
    "plt.title(\"Stanowiska w woj. śląskim (2014–2018)\")\n",
    "plt.ylabel(\"Liczba\")\n",
    "plt.tight_layout()\n",
    "plt.show()"
   ]
  },
  {
   "cell_type": "code",
   "execution_count": null,
   "id": "f5922b1d",
   "metadata": {},
   "outputs": [],
   "source": [
    "# c) uniwersytety vs szkoły techniczne wg płci w śląskim\n",
    "slaskie_typ = nauczyciele[nauczyciele[\"Województwo\"] == \"śląskie\"]\n",
    "typ_grouped = slaskie_typ.groupby([\"Typ uczelni\", \"Płeć\"])[\"Liczba\"].sum().unstack()\n",
    "typ_grouped.plot(kind=\"bar\", figsize=(6, 5))\n",
    "plt.title(\"Typ uczelni vs Płeć – śląskie\")\n",
    "plt.ylabel(\"Liczba zatrudnionych\")\n",
    "plt.tight_layout()\n",
    "plt.show()"
   ]
  },
  {
   "cell_type": "markdown",
   "id": "060e6634",
   "metadata": {},
   "source": [
    "4. Analizy"
   ]
  },
  {
   "cell_type": "code",
   "execution_count": null,
   "id": "1fdf23e3",
   "metadata": {},
   "outputs": [],
   "source": [
    "# a) tylko woj. śląskie\n",
    "print(\"\\nDane woj. śląskie:\\n\", nauczyciele[nauczyciele[\"Województwo\"] == \"śląskie\"])"
   ]
  },
  {
   "cell_type": "code",
   "execution_count": null,
   "id": "aa13d427",
   "metadata": {},
   "outputs": [],
   "source": [
    "# b) woj. z największą i najmniejszą liczbą nauczycieli\n",
    "woj_grouped = nauczyciele.groupby(\"Województwo\")[\"Liczba\"].sum()\n",
    "print(\"\\nNajwięcej nauczycieli:\", woj_grouped.idxmax(), woj_grouped.max())\n",
    "print(\"Najmniej nauczycieli:\", woj_grouped.idxmin(), woj_grouped.min())"
   ]
  },
  {
   "cell_type": "code",
   "execution_count": null,
   "id": "18a05852",
   "metadata": {},
   "outputs": [],
   "source": [
    "# c) woj. gdzie kobiety > średnia\n",
    "kobiety = nauczyciele[nauczyciele[\"Płeć\"] == \"Kobiety\"]\n",
    "kobiety_woj = kobiety.groupby(\"Województwo\")[\"Liczba\"].sum()\n",
    "srednia_k = kobiety_woj.mean()\n",
    "ponad_srednia = kobiety_woj[kobiety_woj > srednia_k]\n",
    "print(\"\\nWojewództwa z kobietami ponad średnią:\\n\", ponad_srednia)"
   ]
  },
  {
   "cell_type": "code",
   "execution_count": null,
   "id": "881651e4",
   "metadata": {},
   "outputs": [],
   "source": [
    "# ---------- ZESTAW 2 ----------\n",
    "# 1. Wczytaj inflację (wiele arkuszy)\n",
    "inflacja_xlsx = pd.read_excel(\"inflacja.xlsx\", sheet_name=None)"
   ]
  },
  {
   "cell_type": "code",
   "execution_count": null,
   "id": "4bfec907",
   "metadata": {
    "lines_to_next_cell": 1
   },
   "outputs": [],
   "source": [
    "# 2. Usuwanie zbędnych wierszy i kolumn (dla każdego arkusza)\n",
    "inflacja = {}\n",
    "for rok, df in inflacja_xlsx.items():\n",
    "    df = df.dropna(how=\"all\").dropna(axis=1, how=\"all\")  # usuń puste\n",
    "    df.columns = df.iloc[0]  # ustaw pierwszy wiersz jako nagłówki\n",
    "    df = df[1:]\n",
    "    inflacja[rok] = df.reset_index(drop=True)"
   ]
  },
  {
   "cell_type": "code",
   "execution_count": null,
   "id": "bd8a9467",
   "metadata": {
    "lines_to_next_cell": 1
   },
   "outputs": [],
   "source": [
    "# 3. Wykresy\n",
    "def wykres_wartosci(df_dict, kolumna, tytul):\n",
    "    df_combined = pd.DataFrame({\n",
    "        rok: pd.to_numeric(df[kolumna], errors='coerce') for rok, df in df_dict.items()\n",
    "    })\n",
    "    df_combined.plot(kind=\"bar\", figsize=(8, 6))\n",
    "    plt.title(tytul)\n",
    "    plt.ylabel(\"Inflacja [%]\")\n",
    "    plt.tight_layout()\n",
    "    plt.show()"
   ]
  },
  {
   "cell_type": "code",
   "execution_count": null,
   "id": "707061e8",
   "metadata": {},
   "outputs": [],
   "source": [
    "# a) Rok do grudnia poprzedniego (Table 1)\n",
    "wykres_wartosci(inflacja, \"Rok do grudnia poprzedniego\", \"Inflacja – Rok do grudnia poprzedniego\")"
   ]
  },
  {
   "cell_type": "code",
   "execution_count": null,
   "id": "32c8d04f",
   "metadata": {},
   "outputs": [],
   "source": [
    "# b) Październik do września (Table 2)\n",
    "wykres_wartosci(inflacja, \"październik\", \"Inflacja – Październik do września\")"
   ]
  },
  {
   "cell_type": "code",
   "execution_count": null,
   "id": "13ec622f",
   "metadata": {},
   "outputs": [],
   "source": [
    "# c) Rok do analogicznego miesiąca poprzedniego (Table 3)\n",
    "wykres_wartosci(inflacja, \"Rok do analogicznego miesiąca poprzedniego\", \"Inflacja – Rok do analogicznego miesiąca\")"
   ]
  },
  {
   "cell_type": "code",
   "execution_count": null,
   "id": "1f6b1f46",
   "metadata": {},
   "outputs": [],
   "source": [
    "# 4. Analizy inflacji\n",
    "for rok, df in inflacja.items():\n",
    "    df_num = df.apply(pd.to_numeric, errors='coerce')\n",
    "    print(f\"\\nInflacja {rok}:\")\n",
    "    print(\"- Największa wartość:\\n\", df_num.max())\n",
    "    print(\"- Najmniejsza wartość:\\n\", df_num.min())\n",
    "    print(\"- Średnia wartość:\\n\", df_num.mean())"
   ]
  }
 ],
 "metadata": {
  "jupytext": {
   "cell_metadata_filter": "-all",
   "main_language": "python",
   "notebook_metadata_filter": "-all"
  }
 },
 "nbformat": 4,
 "nbformat_minor": 5
}
