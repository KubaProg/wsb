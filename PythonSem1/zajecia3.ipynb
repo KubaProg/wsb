{
 "cells": [
  {
   "cell_type": "code",
   "execution_count": null,
   "id": "2c75e465",
   "metadata": {},
   "outputs": [],
   "source": [
    "import pandas as pd\n",
    "import matplotlib.pyplot as plt"
   ]
  },
  {
   "cell_type": "code",
   "execution_count": null,
   "id": "9eedae85",
   "metadata": {},
   "outputs": [],
   "source": [
    "# 1. Wczytaj plik i usuń cudzysłowy z nazw kolumn\n",
    "df = pd.read_csv(\"nauczyciele.csv\", sep=\";\", quotechar='\"')\n",
    "df.columns = df.columns.str.replace('\"', '').str.strip()"
   ]
  },
  {
   "cell_type": "code",
   "execution_count": null,
   "id": "20ad67c3",
   "metadata": {},
   "outputs": [],
   "source": [
    "# 2. Zamień przecinki na kropki i konwertuj liczby\n",
    "df = df.applymap(lambda x: str(x).replace(\",\", \".\") if isinstance(x, str) else x)\n",
    "for col in df.columns[2:]:\n",
    "    df[col] = pd.to_numeric(df[col], errors=\"coerce\")"
   ]
  },
  {
   "cell_type": "code",
   "execution_count": null,
   "id": "3a10cb90",
   "metadata": {
    "lines_to_next_cell": 1
   },
   "outputs": [],
   "source": [
    "# 3. Przekształć z szerokiego formatu do długiego\n",
    "df_long = df.melt(id_vars=[\"Kod\", \"Nazwa\"], var_name=\"Kategoria\", value_name=\"Liczba\")"
   ]
  },
  {
   "cell_type": "code",
   "execution_count": null,
   "id": "d5a7c81c",
   "metadata": {
    "lines_to_next_cell": 1
   },
   "outputs": [],
   "source": [
    "# 4. Rozbij kategorię na kolumny\n",
    "def split_kategoria(kat):\n",
    "    parts = kat.split(\";\")\n",
    "    return pd.Series({\n",
    "        \"Stanowisko\": parts[0] if len(parts) > 0 else None,\n",
    "        \"Płeć\": parts[1] if len(parts) > 1 else None,\n",
    "        \"Typ uczelni\": parts[2] if len(parts) > 2 else None,\n",
    "        \"Rok\": int(parts[3]) if len(parts) > 3 and parts[3].isdigit() else None\n",
    "    })"
   ]
  },
  {
   "cell_type": "code",
   "execution_count": null,
   "id": "97c9b3d5",
   "metadata": {},
   "outputs": [],
   "source": [
    "df_long = df_long.join(df_long[\"Kategoria\"].apply(split_kategoria))\n",
    "df_long.drop(columns=[\"Kategoria\", \"Kod\"], inplace=True)\n",
    "df_long.rename(columns={\"Nazwa\": \"Województwo\"}, inplace=True)"
   ]
  },
  {
   "cell_type": "code",
   "execution_count": null,
   "id": "7c227793",
   "metadata": {},
   "outputs": [],
   "source": [
    "# 5. Czyszczenie danych\n",
    "df_long[\"Liczba\"] = pd.to_numeric(df_long[\"Liczba\"], errors=\"coerce\")\n",
    "df_long.dropna(subset=[\"Liczba\", \"Rok\"], inplace=True)\n",
    "df_long[\"Województwo\"] = df_long[\"Województwo\"].str.upper()\n",
    "df_long[\"Płeć\"] = df_long[\"Płeć\"].str.lower()\n",
    "df_long[\"Stanowisko\"] = df_long[\"Stanowisko\"].str.lower()\n",
    "df_long[\"Typ uczelni\"] = df_long[\"Typ uczelni\"].str.lower()"
   ]
  },
  {
   "cell_type": "markdown",
   "id": "912a990a",
   "metadata": {},
   "source": [
    "6. Wykresy"
   ]
  },
  {
   "cell_type": "code",
   "execution_count": null,
   "id": "967f2a69",
   "metadata": {},
   "outputs": [],
   "source": [
    "# a) nauczyciele ogółem w latach 2014–2018 wg województw\n",
    "etat_lata = df_long[\n",
    "    (df_long[\"Rok\"].between(2014, 2018)) &\n",
    "    (df_long[\"Stanowisko\"] == \"nauczyciele akademiccy\") &\n",
    "    (df_long[\"Płeć\"] == \"ogółem\")\n",
    "]\n",
    "etat_lata_grouped = etat_lata.groupby([\"Województwo\", \"Rok\"])[\"Liczba\"].sum().unstack()\n",
    "etat_lata_grouped.plot(kind=\"bar\", figsize=(12, 6))\n",
    "plt.title(\"Nauczyciele akademiccy ogółem wg województw (2014-2018)\")\n",
    "plt.ylabel(\"Liczba\")\n",
    "plt.tight_layout()\n",
    "plt.show()"
   ]
  },
  {
   "cell_type": "code",
   "execution_count": null,
   "id": "10ead67f",
   "metadata": {},
   "outputs": [],
   "source": [
    "# b) stanowiska w woj. śląskim\n",
    "slaskie = df_long[\n",
    "    (df_long[\"Województwo\"] == \"ŚLĄSKIE\") &\n",
    "    (df_long[\"Rok\"].between(2014, 2018))\n",
    "]\n",
    "slaskie_grouped = slaskie.groupby([\"Stanowisko\", \"Rok\"])[\"Liczba\"].sum().unstack()\n",
    "slaskie_grouped.plot(kind=\"bar\", figsize=(12, 6))\n",
    "plt.title(\"Stanowiska w woj. śląskim (2014–2018)\")\n",
    "plt.ylabel(\"Liczba\")\n",
    "plt.tight_layout()\n",
    "plt.show()"
   ]
  },
  {
   "cell_type": "code",
   "execution_count": null,
   "id": "e14723df",
   "metadata": {},
   "outputs": [],
   "source": [
    "# c) uniwersytety vs szkoły techniczne wg płci w śląskim\n",
    "slaskie_typ = df_long[df_long[\"Województwo\"] == \"ŚLĄSKIE\"]\n",
    "typ_grouped = slaskie_typ.groupby([\"Typ uczelni\", \"Płeć\"])[\"Liczba\"].sum().unstack()\n",
    "typ_grouped.plot(kind=\"bar\", figsize=(8, 6))\n",
    "plt.title(\"Typ uczelni vs Płeć – ŚLĄSKIE\")\n",
    "plt.ylabel(\"Liczba\")\n",
    "plt.tight_layout()\n",
    "plt.show()"
   ]
  },
  {
   "cell_type": "markdown",
   "id": "c592c446",
   "metadata": {},
   "source": [
    "7. Analizy"
   ]
  },
  {
   "cell_type": "code",
   "execution_count": null,
   "id": "df2c8abb",
   "metadata": {},
   "outputs": [],
   "source": [
    "# a) tylko woj. śląskie\n",
    "print(\"\\nDane woj. śląskie:\\n\", df_long[df_long[\"Województwo\"] == \"ŚLĄSKIE\"].head(10))"
   ]
  },
  {
   "cell_type": "code",
   "execution_count": null,
   "id": "20f40a32",
   "metadata": {},
   "outputs": [],
   "source": [
    "# b) woj. z największą i najmniejszą liczbą nauczycieli akademickich\n",
    "woj_grouped = df_long[df_long[\"Stanowisko\"] == \"nauczyciele akademiccy\"].groupby(\"Województwo\")[\"Liczba\"].sum()\n",
    "print(\"\\nNajwięcej nauczycieli akademickich:\", woj_grouped.idxmax(), woj_grouped.max())\n",
    "print(\"Najmniej nauczycieli akademickich:\", woj_grouped.idxmin(), woj_grouped.min())"
   ]
  },
  {
   "cell_type": "code",
   "execution_count": null,
   "id": "9d8f3a38",
   "metadata": {},
   "outputs": [],
   "source": [
    "# c) woj. gdzie liczba kobiet > średnia\n",
    "kobiety = df_long[df_long[\"Płeć\"] == \"kobiety\"]\n",
    "kobiety_sum = kobiety.groupby(\"Województwo\")[\"Liczba\"].sum()\n",
    "srednia = kobiety_sum.mean()\n",
    "print(\"\\nŚrednia liczba kobiet:\", srednia)\n",
    "print(\"Województwa z kobietami ponad średnią:\\n\", kobiety_sum[kobiety_sum > srednia])"
   ]
  },
  {
   "cell_type": "code",
   "execution_count": null,
   "id": "6662b980",
   "metadata": {},
   "outputs": [],
   "source": [
    "# 8. Pauza na koniec\n",
    "input(\"\\nNaciśnij Enter, aby zakończyć...\")"
   ]
  }
 ],
 "metadata": {
  "jupytext": {
   "cell_metadata_filter": "-all",
   "main_language": "python",
   "notebook_metadata_filter": "-all"
  },
  "language_info": {
   "name": "python"
  }
 },
 "nbformat": 4,
 "nbformat_minor": 5
}
