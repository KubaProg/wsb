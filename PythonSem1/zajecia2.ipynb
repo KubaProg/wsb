{
 "cells": [
  {
   "cell_type": "code",
   "execution_count": null,
   "id": "26723ba7",
   "metadata": {
    "lines_to_next_cell": 0
   },
   "outputs": [],
   "source": []
  },
  {
   "cell_type": "code",
   "execution_count": null,
   "id": "1949ecdd",
   "metadata": {
    "lines_to_next_cell": 1
   },
   "outputs": [],
   "source": [
    "import random"
   ]
  },
  {
   "cell_type": "code",
   "execution_count": null,
   "id": "4a35cb17",
   "metadata": {
    "lines_to_next_cell": 1
   },
   "outputs": [],
   "source": [
    "# Zadanie 1: Klasa Talia z wewnętrzną klasą Karta\n",
    "class Talia:\n",
    "    class Karta:\n",
    "        def __init__(self, rodzaj, wartosc):\n",
    "            self.rodzaj = rodzaj\n",
    "            self.wartosc = wartosc\n",
    "        \n",
    "        def __str__(self):\n",
    "            return f\"{self.wartosc} {self.rodzaj}\"\n",
    "        \n",
    "        def __repr__(self):\n",
    "            return self.__str__()\n",
    "    \n",
    "    def __init__(self):\n",
    "        self.przetasuj()\n",
    "    \n",
    "    def przetasuj(self):\n",
    "        \"\"\"Tworzy nową talię 52 kart i tasuje ją.\"\"\"\n",
    "        rodzaje = [\"Kier\", \"Karo\", \"Trefl\", \"Pik\"]\n",
    "        wartosci = [\"A\", \"2\", \"3\", \"4\", \"5\", \"6\", \"7\", \"8\", \"9\", \"10\", \"J\", \"Q\", \"K\"]\n",
    "        self.karty = [Talia.Karta(rodzaj, wartosc) for rodzaj in rodzaje for wartosc in wartosci]\n",
    "        random.shuffle(self.karty)\n",
    "    \n",
    "    def rozdaj(self):\n",
    "        \"\"\"Zwraca jedną kartę z talii i usuwa ją.\"\"\"\n",
    "        if not self.karty:\n",
    "            return None\n",
    "        return self.karty.pop()"
   ]
  },
  {
   "cell_type": "code",
   "execution_count": null,
   "id": "11fefa09",
   "metadata": {
    "lines_to_next_cell": 1
   },
   "outputs": [],
   "source": [
    "# Zadanie 2: Klasy Pojazd, Bus, Samochod\n",
    "class Pojazd:\n",
    "    kolor = \"biały\"  # atrybut klasowy\n",
    "\n",
    "    def __init__(self, predkosc_max, mileage, nazwa=None, liczba_miejsc=4):\n",
    "        self.predkosc_max = predkosc_max\n",
    "        self.mileage = mileage\n",
    "        self.nazwa = nazwa\n",
    "        self.liczba_miejsc = liczba_miejsc\n",
    "    \n",
    "    def oplata(self):\n",
    "        \"\"\"Oblicza opłatę: liczba miejsc * 100\"\"\"\n",
    "        return self.liczba_miejsc * 100\n",
    "    \n",
    "    def __str__(self):\n",
    "        if self.nazwa:\n",
    "            return f\"({self.nazwa}, {self.predkosc_max}, {self.mileage})\"\n",
    "        else:\n",
    "            return f\"({self.predkosc_max}, {self.mileage})\""
   ]
  },
  {
   "cell_type": "code",
   "execution_count": null,
   "id": "376835f9",
   "metadata": {
    "lines_to_next_cell": 1
   },
   "outputs": [],
   "source": [
    "class Bus(Pojazd):\n",
    "    def __init__(self, nazwa, predkosc_max, mileage, pojemnosc_calkowita=50):\n",
    "        super().__init__(predkosc_max, mileage, nazwa, liczba_miejsc=pojemnosc_calkowita)\n",
    "        self.pojemnosc_calkowita = pojemnosc_calkowita\n",
    "    \n",
    "    def oplata(self):\n",
    "        \"\"\"Oblicza opłatę z dodatkowym 10% dla busa.\"\"\"\n",
    "        podstawowa = super().oplata()\n",
    "        return podstawowa * 1.10  # dodatkowe 10%\n",
    "    \n",
    "    def __str__(self):\n",
    "        return f\"({self.nazwa}, {self.predkosc_max}, {self.mileage})\""
   ]
  },
  {
   "cell_type": "code",
   "execution_count": null,
   "id": "cd6acf3d",
   "metadata": {
    "lines_to_next_cell": 1
   },
   "outputs": [],
   "source": [
    "class Samochod(Pojazd):\n",
    "    def __init__(self, nazwa, predkosc_max, mileage, liczba_miejsc=5):\n",
    "        super().__init__(predkosc_max, mileage, nazwa, liczba_miejsc)\n",
    "    \n",
    "    def __str__(self):\n",
    "        return f\"({self.nazwa}, {self.predkosc_max}, {self.mileage})\""
   ]
  },
  {
   "cell_type": "code",
   "execution_count": null,
   "id": "606aabb0",
   "metadata": {
    "lines_to_next_cell": 1
   },
   "outputs": [],
   "source": [
    "def main():\n",
    "    print(\"=== Zajęcia 2 - Programowanie Obiektowe ===\\n\")\n",
    "    \n",
    "    # Test zadanie 1: Talia kart\n",
    "    print(\"Zadanie 1: Talia kart\")\n",
    "    talia = Talia()\n",
    "    print(\"Karty w talii po przetasowaniu:\")\n",
    "    print(talia.karty)\n",
    "    print(\"Rozdaję jedną kartę:\", talia.rozdaj())\n",
    "    print(\"Liczba kart pozostałych w talii:\", len(talia.karty))\n",
    "    print(\"\\n\" + \"=\"*50 + \"\\n\")\n",
    "    \n",
    "    # Test zadanie 2: Pojazd, Bus, Samochod\n",
    "    print(\"Zadanie 2: Pojazd, Bus, Samochod\")\n",
    "    \n",
    "    # Tworzymy obiekt klasy Pojazd (przykładowo)\n",
    "    pojazd = Pojazd(240, 18)\n",
    "    print(\"Pojazd:\", pojazd)\n",
    "    print(\"Kolor pojazdu:\", Pojazd.kolor)\n",
    "    print(\"Opłata dla pojazdu:\", pojazd.oplata())\n",
    "    \n",
    "    # Tworzymy obiekt klasy Samochod (\"Audi Q5\")\n",
    "    samochod = Samochod(\"Audi Q5\", 240, 18, liczba_miejsc=5)\n",
    "    print(\"Samochod:\", samochod)\n",
    "    print(\"Kolor samochodu:\", Samochod.kolor)\n",
    "    print(\"Opłata dla samochodu:\", samochod.oplata())\n",
    "    \n",
    "    # Tworzymy obiekt klasy Bus (\"School Volvo\")\n",
    "    bus = Bus(\"School Volvo\", 180, 12, pojemnosc_calkowita=50)\n",
    "    print(\"Bus:\", bus)\n",
    "    print(\"Kolor busa:\", Bus.kolor)\n",
    "    print(\"Opłata dla busa:\", bus.oplata())"
   ]
  },
  {
   "cell_type": "code",
   "execution_count": null,
   "id": "c1e1fde1",
   "metadata": {},
   "outputs": [],
   "source": [
    "if __name__ == \"__main__\":\n",
    "    main()"
   ]
  }
 ],
 "metadata": {
  "jupytext": {
   "cell_metadata_filter": "-all",
   "main_language": "python",
   "notebook_metadata_filter": "-all"
  }
 },
 "nbformat": 4,
 "nbformat_minor": 5
}
