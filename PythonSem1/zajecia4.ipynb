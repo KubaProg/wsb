{
 "cells": [
  {
   "cell_type": "code",
   "execution_count": null,
   "id": "784c8703",
   "metadata": {
    "lines_to_next_cell": 0
   },
   "outputs": [],
   "source": []
  },
  {
   "cell_type": "code",
   "execution_count": null,
   "id": "ce30441d",
   "metadata": {
    "lines_to_next_cell": 1
   },
   "outputs": [],
   "source": [
    "import numpy as np\n",
    "import math\n",
    "import random\n",
    "from timeit import timeit"
   ]
  },
  {
   "cell_type": "code",
   "execution_count": null,
   "id": "52338958",
   "metadata": {
    "lines_to_next_cell": 1
   },
   "outputs": [],
   "source": [
    "# ---------- ZADANIE 1 ----------\n",
    "def szyfr_cezara(plik_wejsciowy, plik_wyjsciowy, klucz):\n",
    "    with open(plik_wejsciowy, 'r', encoding='utf-8') as f:\n",
    "        tekst = f.read()\n",
    "    zaszyfrowany = ''.join(chr((ord(znak) + klucz) % 256) for znak in tekst)\n",
    "    with open(plik_wyjsciowy, 'w', encoding='utf-8') as f:\n",
    "        f.write(zaszyfrowany)"
   ]
  },
  {
   "cell_type": "code",
   "execution_count": null,
   "id": "ae04c88f",
   "metadata": {
    "lines_to_next_cell": 1
   },
   "outputs": [],
   "source": [
    "# ---------- ZADANIE 2 ----------\n",
    "def sinus_math():\n",
    "    return [math.sin(i) for i in range(10**6)]"
   ]
  },
  {
   "cell_type": "code",
   "execution_count": null,
   "id": "5d6a438b",
   "metadata": {
    "lines_to_next_cell": 1
   },
   "outputs": [],
   "source": [
    "def sinus_numpy():\n",
    "    return np.sin(np.arange(10**6))"
   ]
  },
  {
   "cell_type": "code",
   "execution_count": null,
   "id": "0a9c46cd",
   "metadata": {
    "lines_to_next_cell": 1
   },
   "outputs": [],
   "source": [
    "def plus1_list():\n",
    "    return [i + 1 for i in range(10**6)]"
   ]
  },
  {
   "cell_type": "code",
   "execution_count": null,
   "id": "1c261504",
   "metadata": {
    "lines_to_next_cell": 1
   },
   "outputs": [],
   "source": [
    "def plus1_numpy():\n",
    "    return np.arange(10**6) + 1"
   ]
  },
  {
   "cell_type": "code",
   "execution_count": null,
   "id": "cee49e99",
   "metadata": {
    "lines_to_next_cell": 1
   },
   "outputs": [],
   "source": [
    "# ---------- ZADANIE 3 ----------\n",
    "def dodaj_wartosci(macierz, nowe):\n",
    "    return np.append(macierz, nowe)"
   ]
  },
  {
   "cell_type": "code",
   "execution_count": null,
   "id": "d5302888",
   "metadata": {
    "lines_to_next_cell": 1
   },
   "outputs": [],
   "source": [
    "# ---------- ZADANIE 4 ----------\n",
    "def generuj_szachownice(rozmiar):\n",
    "    return np.indices((rozmiar, rozmiar)).sum(axis=0) % 2"
   ]
  },
  {
   "cell_type": "code",
   "execution_count": null,
   "id": "66330941",
   "metadata": {
    "lines_to_next_cell": 1
   },
   "outputs": [],
   "source": [
    "# ---------- ZADANIE 5 ----------\n",
    "def fahrenheit_na_celcjusz(lista_f):\n",
    "    return [(round((f - 32) * 5 / 9, 2)) for f in lista_f]"
   ]
  },
  {
   "cell_type": "code",
   "execution_count": null,
   "id": "fda4f8d0",
   "metadata": {
    "lines_to_next_cell": 1
   },
   "outputs": [],
   "source": [
    "# ---------- ZADANIE 6 ----------\n",
    "def przekatna_macierz(wartosci):\n",
    "    return np.diag(wartosci)"
   ]
  },
  {
   "cell_type": "code",
   "execution_count": null,
   "id": "acba5d5e",
   "metadata": {
    "lines_to_next_cell": 1
   },
   "outputs": [],
   "source": [
    "# ---------- ZADANIE 7 ----------\n",
    "def odwroc_tablice(macierz):\n",
    "    return np.array(macierz).flatten()[::-1]"
   ]
  },
  {
   "cell_type": "code",
   "execution_count": null,
   "id": "f0fe7361",
   "metadata": {
    "lines_to_next_cell": 1
   },
   "outputs": [],
   "source": [
    "# ---------- ZADANIE 8 ----------\n",
    "def filtruj_macierz():\n",
    "    tab = np.arange(100).reshape((10, 10))\n",
    "    return tab[(tab % 2 == 0) & (tab % 3 != 0)]"
   ]
  },
  {
   "cell_type": "code",
   "execution_count": null,
   "id": "5be17b39",
   "metadata": {
    "lines_to_next_cell": 1
   },
   "outputs": [],
   "source": [
    "# ---------- ZADANIE 9 ----------\n",
    "def macierz_z_wyznacznikiem(n, zakres, oczekiwany_det):\n",
    "    while True:\n",
    "        macierz = np.random.randint(zakres[0], zakres[1], size=(n, n))\n",
    "        if round(np.linalg.det(macierz)) == oczekiwany_det:\n",
    "            return macierz"
   ]
  },
  {
   "cell_type": "code",
   "execution_count": null,
   "id": "89fb5602",
   "metadata": {},
   "outputs": [],
   "source": [
    "# ---------- URUCHOMIENIE ----------\n",
    "if __name__ == \"__main__\":\n",
    "    print(\"Zadanie 2 – Czas działania:\")\n",
    "    print(\"math.sin:\", timeit(sinus_math, number=1))\n",
    "    print(\"np.sin:\", timeit(sinus_numpy, number=1))\n",
    "    print(\"lista +1:\", timeit(plus1_list, number=1))\n",
    "    print(\"numpy +1:\", timeit(plus1_numpy, number=1))\n",
    "\n",
    "    print(\"\\nZadanie 3 – Dodaj wartości:\")\n",
    "    print(dodaj_wartosci(np.array([10, 20, 30]), [40, 50]))\n",
    "\n",
    "    print(\"\\nZadanie 4 – Szachownica 8x8:\")\n",
    "    print(generuj_szachownice(8))\n",
    "\n",
    "    print(\"\\nZadanie 5 – Fahrenheit na Celsius:\")\n",
    "    print(fahrenheit_na_celcjusz([0, 12, 45.21, 34, 99.91]))\n",
    "\n",
    "    print(\"\\nZadanie 6 – Macierz przekątna:\")\n",
    "    print(przekatna_macierz([4, 5, 6, 7]))\n",
    "\n",
    "    print(\"\\nZadanie 7 – Odwrócenie macierzy:\")\n",
    "    print(odwroc_tablice([[1, 2, 3], [4, 5, 6], [7, 8, 9]]))\n",
    "\n",
    "    print(\"\\nZadanie 8 – Filtrowanie 10x10:\")\n",
    "    print(filtruj_macierz())\n",
    "\n",
    "    print(\"\\nZadanie 9 – Macierz o wyznaczniku 1:\")\n",
    "    print(macierz_z_wyznacznikiem(3, (1, 10), 1))"
   ]
  }
 ],
 "metadata": {
  "jupytext": {
   "cell_metadata_filter": "-all",
   "main_language": "python",
   "notebook_metadata_filter": "-all"
  }
 },
 "nbformat": 4,
 "nbformat_minor": 5
}
