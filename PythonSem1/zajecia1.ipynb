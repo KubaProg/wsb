{
 "cells": [
  {
   "cell_type": "code",
   "execution_count": null,
   "id": "d66e417f",
   "metadata": {
    "lines_to_next_cell": 1
   },
   "outputs": [],
   "source": [
    "def greet_user(name):\n",
    "    print(f\"Hello, {name}!\")"
   ]
  },
  {
   "cell_type": "code",
   "execution_count": null,
   "id": "707a925e",
   "metadata": {
    "lines_to_next_cell": 1
   },
   "outputs": [],
   "source": [
    "def main():\n",
    "    print(\"Hello from zajecia1!\")"
   ]
  },
  {
   "cell_type": "code",
   "execution_count": null,
   "id": "7f27bbb4",
   "metadata": {
    "lines_to_next_cell": 1
   },
   "outputs": [],
   "source": [
    "def zad1(x,y):\n",
    "    return x*y"
   ]
  },
  {
   "cell_type": "code",
   "execution_count": null,
   "id": "b7693a35",
   "metadata": {
    "lines_to_next_cell": 1
   },
   "outputs": [],
   "source": [
    "def zad2(liczba):\n",
    "    return liczba%2==0"
   ]
  },
  {
   "cell_type": "code",
   "execution_count": null,
   "id": "e64e46fc",
   "metadata": {
    "lines_to_next_cell": 1
   },
   "outputs": [],
   "source": [
    "def zad3(limit):\n",
    "    sum_of_squares = sum(number ** 2 for number in range(1, limit))\n",
    "    return sum_of_squares"
   ]
  },
  {
   "cell_type": "code",
   "execution_count": null,
   "id": "2a030b54",
   "metadata": {
    "lines_to_next_cell": 1
   },
   "outputs": [],
   "source": [
    "def zad4(liczba):\n",
    "    if liczba < 2:\n",
    "        return False\n",
    "    for i in range(2, int(liczba ** 0.5) + 1):\n",
    "        if liczba % i == 0:\n",
    "            return False\n",
    "    return True"
   ]
  },
  {
   "cell_type": "code",
   "execution_count": null,
   "id": "753d25fa",
   "metadata": {
    "lines_to_next_cell": 1
   },
   "outputs": [],
   "source": [
    "def zad5(n):\n",
    "    divisors = [i for i in range(1, n + 1) if n % i == 0]\n",
    "    return divisors"
   ]
  },
  {
   "cell_type": "code",
   "execution_count": null,
   "id": "621065df",
   "metadata": {
    "lines_to_next_cell": 1
   },
   "outputs": [],
   "source": [
    "def zad6(n):\n",
    "        factors = []\n",
    "        divisor = 2\n",
    "        while n > 1:\n",
    "            while n % divisor == 0:\n",
    "                factors.append(divisor)\n",
    "                n //= divisor\n",
    "            divisor += 1\n",
    "            if divisor * divisor > n and n > 1:\n",
    "                factors.append(n)\n",
    "                break\n",
    "        return factors"
   ]
  },
  {
   "cell_type": "code",
   "execution_count": null,
   "id": "f5716e02",
   "metadata": {
    "lines_to_next_cell": 1
   },
   "outputs": [],
   "source": [
    "def zad7(a, b):\n",
    "            def gcd(x, y):\n",
    "                while y:\n",
    "                    x, y = y, x % y\n",
    "                return x\n",
    "\n",
    "            return abs(a * b) // gcd(a, b)"
   ]
  },
  {
   "cell_type": "code",
   "execution_count": null,
   "id": "d018bea5",
   "metadata": {
    "lines_to_next_cell": 1
   },
   "outputs": [],
   "source": [
    "def zad8(n):\n",
    "            return bin(n)[2:]"
   ]
  },
  {
   "cell_type": "code",
   "execution_count": null,
   "id": "4bc4d9bc",
   "metadata": {
    "lines_to_next_cell": 1
   },
   "outputs": [],
   "source": [
    "def zad9(a, b, c):\n",
    "                discriminant = b**2 - 4*a*c\n",
    "                if discriminant > 0:\n",
    "                    root1 = (-b + discriminant**0.5) / (2*a)\n",
    "                    root2 = (-b - discriminant**0.5) / (2*a)\n",
    "                    return root1, root2\n",
    "                elif discriminant == 0:\n",
    "                    root = -b / (2*a)\n",
    "                    return root,\n",
    "                else:\n",
    "                    return None            "
   ]
  },
  {
   "cell_type": "code",
   "execution_count": null,
   "id": "70b3ae44",
   "metadata": {
    "lines_to_next_cell": 1
   },
   "outputs": [],
   "source": [
    "def zad10_iterative(n):\n",
    "    \"\"\"Oblicza n! metodą iteracyjną.\"\"\"\n",
    "    result = 1\n",
    "    for i in range(2, n + 1):\n",
    "        result *= i\n",
    "    return result"
   ]
  },
  {
   "cell_type": "code",
   "execution_count": null,
   "id": "99edd20a",
   "metadata": {
    "lines_to_next_cell": 1
   },
   "outputs": [],
   "source": [
    "def zad10_recursive(n):\n",
    "    \"\"\"Oblicza n! metodą rekurencyjną.\"\"\"\n",
    "    if n <= 1:\n",
    "        return 1\n",
    "    return n * zad10_recursive(n - 1)"
   ]
  },
  {
   "cell_type": "code",
   "execution_count": null,
   "id": "b93fc7ff",
   "metadata": {},
   "outputs": [],
   "source": [
    "# Możesz używać jednej z poniższych wersji, tutaj przyjmujemy iteracyjną jako domyślną.\n",
    "def zad10(n):\n",
    "    return zad10_iterative(n)"
   ]
  },
  {
   "cell_type": "code",
   "execution_count": null,
   "id": "d0ae286e",
   "metadata": {},
   "outputs": [],
   "source": [
    "def zad11(n):\n",
    "    \"\"\"\n",
    "    Oblicza n-tą liczbę Fibonacciego (przyjmując, że F(0)=0, F(1)=1).\n",
    "    Metoda iteracyjna, efektywna dla dużych n.\n",
    "    \"\"\"\n",
    "    if n < 0:\n",
    "        raise ValueError(\"n musi być nieujemne\")\n",
    "    a, b = 0, 1\n",
    "    for _ in range(n):\n",
    "        a, b = b, a + b\n",
    "    return a"
   ]
  },
  {
   "cell_type": "code",
   "execution_count": null,
   "id": "45d9a974",
   "metadata": {},
   "outputs": [],
   "source": [
    "def zad12(*args):\n",
    "    \"\"\"\n",
    "    Dla dowolnej ilości argumentów zwraca listę skumulowanych sum częściowych.\n",
    "    Przykład: zad12(1, 2, 3) -> [1, 3, 6]\n",
    "    \"\"\"\n",
    "    cum_sum = 0\n",
    "    result = []\n",
    "    for num in args:\n",
    "        cum_sum += num\n",
    "        result.append(cum_sum)\n",
    "    return result"
   ]
  },
  {
   "cell_type": "code",
   "execution_count": null,
   "id": "625744dc",
   "metadata": {},
   "outputs": [],
   "source": [
    "def zad13(*args):\n",
    "    \"\"\"\n",
    "    Dla dowolnej ilości argumentów liczbowych zwraca ich średnią arytmetyczną.\n",
    "    Jeśli nie podano argumentów, zwraca 0.\n",
    "    \"\"\"\n",
    "    if len(args) == 0:\n",
    "        return 0\n",
    "    return sum(args) / len(args)"
   ]
  },
  {
   "cell_type": "code",
   "execution_count": null,
   "id": "8338a941",
   "metadata": {},
   "outputs": [],
   "source": [
    "def zad14(s):\n",
    "    \"\"\"\n",
    "    Dla zadanego łańcucha znaków zwraca łańcuch ze znakami w odwrotnej kolejności.\n",
    "    \"\"\"\n",
    "    return s[::-1]"
   ]
  },
  {
   "cell_type": "code",
   "execution_count": null,
   "id": "b7948f01",
   "metadata": {},
   "outputs": [],
   "source": [
    "def zad15(s):\n",
    "    \"\"\"\n",
    "    Dla danego łańcucha znaków zwraca słownik z liczbą dużych i małych liter.\n",
    "    Klucze: 'upper' i 'lower'.\n",
    "    \"\"\"\n",
    "    upper_count = sum(1 for char in s if char.isupper())\n",
    "    lower_count = sum(1 for char in s if char.islower())\n",
    "    return {\"upper\": upper_count, \"lower\": lower_count}"
   ]
  },
  {
   "cell_type": "code",
   "execution_count": null,
   "id": "50e789e8",
   "metadata": {},
   "outputs": [],
   "source": [
    "def zad16(lst):\n",
    "    \"\"\"\n",
    "    Dla danej listy zwraca listę unikalnych elementów, zachowując kolejność.\n",
    "    \"\"\"\n",
    "    unique = []\n",
    "    for item in lst:\n",
    "        if item not in unique:\n",
    "            unique.append(item)\n",
    "    return unique"
   ]
  },
  {
   "cell_type": "code",
   "execution_count": null,
   "id": "2ff63ec3",
   "metadata": {},
   "outputs": [],
   "source": [
    "def zad17(s):\n",
    "    \"\"\"\n",
    "    Dla zadanego łańcucha znaków zwraca słownik ze statystyką częstości występowania poszczególnych znaków.\n",
    "    \"\"\"\n",
    "    freq = {}\n",
    "    for char in s:\n",
    "        freq[char] = freq.get(char, 0) + 1\n",
    "    return freq"
   ]
  },
  {
   "cell_type": "code",
   "execution_count": null,
   "id": "91ec28c9",
   "metadata": {},
   "outputs": [],
   "source": [
    "def zad18(s):\n",
    "    \"\"\"\n",
    "    Dla zadanego stringa zwraca listę słów, na które można go podzielić.\n",
    "    \"\"\"\n",
    "    return s.split()"
   ]
  },
  {
   "cell_type": "code",
   "execution_count": null,
   "id": "4163c036",
   "metadata": {},
   "outputs": [],
   "source": [
    "def zad19(s):\n",
    "    \"\"\"\n",
    "    Dla zadanego łańcucha znaków zwraca jego postać w notacji wielbłądziej (camelCase).\n",
    "    Przykład: \"ala ma pythona\" -> \"alaMaPythona\"\n",
    "    \"\"\"\n",
    "    words = s.split()\n",
    "    if not words:\n",
    "        return \"\"\n",
    "    return words[0].lower() + \"\".join(word.capitalize() for word in words[1:])"
   ]
  },
  {
   "cell_type": "code",
   "execution_count": null,
   "id": "b6fbe0b2",
   "metadata": {},
   "outputs": [],
   "source": [
    "def zad20(s):\n",
    "    \"\"\"\n",
    "    Dla stringa w notacji wielbłądziej (camelCase) zwraca jego postać \"normalną\" (wszystkie litery małe, oddzielone spacjami).\n",
    "    Przykład: \"alaMaPythona\" -> \"ala ma pythona\"\n",
    "    \"\"\"\n",
    "    result = \"\"\n",
    "    for char in s:\n",
    "        if char.isupper():\n",
    "            result += \" \" + char.lower()\n",
    "        else:\n",
    "            result += char\n",
    "    return result.strip()"
   ]
  },
  {
   "cell_type": "code",
   "execution_count": null,
   "id": "312d23e1",
   "metadata": {},
   "outputs": [],
   "source": [
    "def zad21(n, tolerance=1e-10, max_iterations=1000):\n",
    "    \"\"\"\n",
    "    Oblicza przybliżenie pierwiastka kwadratowego liczby n metodą babilońską (Herona).\n",
    "    \"\"\"\n",
    "    if n < 0:\n",
    "        raise ValueError(\"n musi być nieujemne\")\n",
    "    if n == 0:\n",
    "        return 0\n",
    "    x = n\n",
    "    for _ in range(max_iterations):\n",
    "        root = 0.5 * (x + n / x)\n",
    "        if abs(root - x) < tolerance:\n",
    "            break\n",
    "        x = root\n",
    "    return x"
   ]
  },
  {
   "cell_type": "code",
   "execution_count": null,
   "id": "b5f2a550",
   "metadata": {},
   "outputs": [],
   "source": [
    "import random\n",
    "def zad22(iterations):\n",
    "    \"\"\"\n",
    "    Przybliża wartość π metodą Monte-Carlo.\n",
    "    iterations - liczba losowań (im większa, tym dokładniejsze przybliżenie).\n",
    "    \"\"\"\n",
    "    inside = 0\n",
    "    for _ in range(iterations):\n",
    "        x = random.random()\n",
    "        y = random.random()\n",
    "        if x*x + y*y <= 1:\n",
    "            inside += 1\n",
    "    return (inside / iterations) * 4"
   ]
  },
  {
   "cell_type": "code",
   "execution_count": null,
   "id": "ea4688c1",
   "metadata": {},
   "outputs": [],
   "source": [
    "def zad23(a, b):\n",
    "    \"\"\"\n",
    "    Dla podanych list a i b zwraca listę krotek, gdzie każda krotka to para elementów z obu list o tym samym indeksie.\n",
    "    Przykład: a = [1,2,3], b = [4,5,6] -> [(1,4), (2,5), (3,6)]\n",
    "    \"\"\"\n",
    "    return list(zip(a, b))"
   ]
  },
  {
   "cell_type": "code",
   "execution_count": null,
   "id": "a16b64d0",
   "metadata": {},
   "outputs": [],
   "source": [
    "def zad24():\n",
    "    \"\"\"\n",
    "    Dla zakresu liczb od 0 do 99 zwraca listę tych wartości, które są podzielne przez 3 i jednocześnie niepodzielne przez 5.\n",
    "    \"\"\"\n",
    "    return [x for x in range(100) if x % 3 == 0 and x % 5 != 0]"
   ]
  },
  {
   "cell_type": "code",
   "execution_count": null,
   "id": "afe50e2d",
   "metadata": {},
   "outputs": [],
   "source": []
  },
  {
   "cell_type": "code",
   "execution_count": null,
   "id": "ea93cc9e",
   "metadata": {
    "lines_to_next_cell": 2
   },
   "outputs": [],
   "source": []
  },
  {
   "cell_type": "code",
   "execution_count": null,
   "id": "90ee33d9",
   "metadata": {},
   "outputs": [],
   "source": [
    "def main():\n",
    "    print(\"Hello from zajecia1!\")\n",
    "    greet_user(\"Student\")\n",
    "    \n",
    "    # Zad 1 i 2 (przykładowo)\n",
    "    print(\"Zad1 (3 * 4):\", zad1(3, 4))\n",
    "    print(\"Zad2 (czy 9 jest parzysta):\", zad2(9))\n",
    "    \n",
    "    # Zadania 10-24:\n",
    "    \n",
    "    # Zad 10: Obliczanie silni dla n=5\n",
    "    n_factorial = 5\n",
    "    print(\"Zad10 (5!):\", zad10(n_factorial))\n",
    "    \n",
    "    # Zad 11: n-ta liczba Fibonacciego dla n=10\n",
    "    n_fib = 10\n",
    "    print(\"Zad11 (10-ta liczba Fibonacciego):\", zad11(n_fib))\n",
    "    \n",
    "    # Zad 12: Skumulowane sumy częściowe dla (1, 2, 3, 4)\n",
    "    print(\"Zad12 (skumulowane sumy częściowe 1,2,3,4):\", zad12(1, 2, 3, 4))\n",
    "    \n",
    "    # Zad 13: Średnia arytmetyczna liczb (1,2,3,4)\n",
    "    print(\"Zad13 (średnia arytmetyczna 1,2,3,4):\", zad13(1, 2, 3, 4))\n",
    "    \n",
    "    # Zad 14: Odwrócenie łańcucha znaków\n",
    "    sample_str = \"Python\"\n",
    "    print(\"Zad14 (odwrócony 'Python'):\", zad14(sample_str))\n",
    "    \n",
    "    # Zad 15: Liczba dużych i małych liter w łańcuchu\n",
    "    sample_str2 = \"AlaMaKota\"\n",
    "    print(\"Zad15 (liczba dużych i małych liter w 'AlaMaKota'):\", zad15(sample_str2))\n",
    "    \n",
    "    # Zad 16: Unikalne elementy listy\n",
    "    sample_list = [1, 2, 2, 3, 3, 3]\n",
    "    print(\"Zad16 (unikalne elementy z [1,2,2,3,3,3]):\", zad16(sample_list))\n",
    "    \n",
    "    # Zad 17: Statystyki występowania znaków w łańcuchu\n",
    "    sample_str3 = \"hello world\"\n",
    "    print(\"Zad17 (statystyka znaków 'hello world'):\", zad17(sample_str3))\n",
    "    \n",
    "    # Zad 18: Podział łańcucha na słowa\n",
    "    sample_str4 = \"Ala ma kota\"\n",
    "    print(\"Zad18 (podział 'Ala ma kota'):\", zad18(sample_str4))\n",
    "    \n",
    "    # Zad 19: Zamiana łańcucha na notację wielbłądzią (camelCase)\n",
    "    sample_str5 = \"ala ma pythona\"\n",
    "    print(\"Zad19 (camelCase 'ala ma pythona'):\", zad19(sample_str5))\n",
    "    \n",
    "    # Zad 20: Zamiana notacji wielbłądziej na \"normalną\"\n",
    "    sample_camel = \"alaMaPythona\"\n",
    "    print(\"Zad20 (odwrotna notacja camelCase 'alaMaPythona'):\", zad20(sample_camel))\n",
    "    \n",
    "    # Zad 21: Pierwiastek kwadratowy liczby metodą babilońską (dla n=16)\n",
    "    n_sqrt = 16\n",
    "    print(\"Zad21 (pierwiastek kwadratowy z 16):\", zad21(n_sqrt))\n",
    "    \n",
    "    # Zad 22: Przybliżenie wartości π metodą Monte-Carlo (np. 100000 iteracji)\n",
    "    iterations = 100000\n",
    "    print(\"Zad22 (przybliżenie π dla 100000 iteracji):\", zad22(iterations))\n",
    "    \n",
    "    # Zad 23: Łączenie dwóch list w krotki\n",
    "    a = [1, 2, 3]\n",
    "    b = [4, 5, 6]\n",
    "    print(\"Zad23 (łączenie list [1,2,3] i [4,5,6]):\", zad23(a, b))\n",
    "    \n",
    "    # Zad 24: Lista liczb z zakresu 0-99, podzielnych przez 3 i niepodzielnych przez 5\n",
    "    print(\"Zad24 (liczby z zakresu 0-99 spełniające warunki):\", zad24())"
   ]
  },
  {
   "cell_type": "code",
   "execution_count": null,
   "id": "2a838a70",
   "metadata": {
    "lines_to_next_cell": 2
   },
   "outputs": [],
   "source": []
  }
 ],
 "metadata": {
  "jupytext": {
   "cell_metadata_filter": "-all",
   "main_language": "python",
   "notebook_metadata_filter": "-all"
  }
 },
 "nbformat": 4,
 "nbformat_minor": 5
}
